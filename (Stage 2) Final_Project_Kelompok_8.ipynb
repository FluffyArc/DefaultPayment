{
 "cells": [
  {
   "cell_type": "markdown",
   "id": "d8291bcb-fa37-4b2f-90ac-0e304ca062d9",
   "metadata": {},
   "source": [
    "# Data Preprocessing"
   ]
  },
  {
   "cell_type": "code",
   "execution_count": 6,
   "id": "3b4bf7e3-5172-4431-9aa7-fd27b60a1184",
   "metadata": {},
   "outputs": [
    {
     "data": {
      "text/html": [
       "<div>\n",
       "<style scoped>\n",
       "    .dataframe tbody tr th:only-of-type {\n",
       "        vertical-align: middle;\n",
       "    }\n",
       "\n",
       "    .dataframe tbody tr th {\n",
       "        vertical-align: top;\n",
       "    }\n",
       "\n",
       "    .dataframe thead th {\n",
       "        text-align: right;\n",
       "    }\n",
       "</style>\n",
       "<table border=\"1\" class=\"dataframe\">\n",
       "  <thead>\n",
       "    <tr style=\"text-align: right;\">\n",
       "      <th></th>\n",
       "      <th>ID</th>\n",
       "      <th>LIMIT_BAL</th>\n",
       "      <th>SEX</th>\n",
       "      <th>EDUCATION</th>\n",
       "      <th>MARRIAGE</th>\n",
       "      <th>AGE</th>\n",
       "      <th>PAY_0</th>\n",
       "      <th>PAY_2</th>\n",
       "      <th>PAY_3</th>\n",
       "      <th>PAY_4</th>\n",
       "      <th>...</th>\n",
       "      <th>BILL_AMT4</th>\n",
       "      <th>BILL_AMT5</th>\n",
       "      <th>BILL_AMT6</th>\n",
       "      <th>PAY_AMT1</th>\n",
       "      <th>PAY_AMT2</th>\n",
       "      <th>PAY_AMT3</th>\n",
       "      <th>PAY_AMT4</th>\n",
       "      <th>PAY_AMT5</th>\n",
       "      <th>PAY_AMT6</th>\n",
       "      <th>default_payment_next_month</th>\n",
       "    </tr>\n",
       "  </thead>\n",
       "  <tbody>\n",
       "    <tr>\n",
       "      <th>0</th>\n",
       "      <td>25150</td>\n",
       "      <td>360000</td>\n",
       "      <td>2</td>\n",
       "      <td>2</td>\n",
       "      <td>2</td>\n",
       "      <td>25</td>\n",
       "      <td>-1</td>\n",
       "      <td>-1</td>\n",
       "      <td>-1</td>\n",
       "      <td>-1</td>\n",
       "      <td>...</td>\n",
       "      <td>3435</td>\n",
       "      <td>8870</td>\n",
       "      <td>2020</td>\n",
       "      <td>12590</td>\n",
       "      <td>3479</td>\n",
       "      <td>3446</td>\n",
       "      <td>8870</td>\n",
       "      <td>2020</td>\n",
       "      <td>27043</td>\n",
       "      <td>0</td>\n",
       "    </tr>\n",
       "    <tr>\n",
       "      <th>1</th>\n",
       "      <td>13470</td>\n",
       "      <td>240000</td>\n",
       "      <td>2</td>\n",
       "      <td>1</td>\n",
       "      <td>2</td>\n",
       "      <td>46</td>\n",
       "      <td>2</td>\n",
       "      <td>2</td>\n",
       "      <td>-2</td>\n",
       "      <td>-1</td>\n",
       "      <td>...</td>\n",
       "      <td>2240</td>\n",
       "      <td>1681</td>\n",
       "      <td>2267</td>\n",
       "      <td>0</td>\n",
       "      <td>0</td>\n",
       "      <td>2240</td>\n",
       "      <td>0</td>\n",
       "      <td>2267</td>\n",
       "      <td>3074</td>\n",
       "      <td>0</td>\n",
       "    </tr>\n",
       "    <tr>\n",
       "      <th>2</th>\n",
       "      <td>3092</td>\n",
       "      <td>320000</td>\n",
       "      <td>2</td>\n",
       "      <td>2</td>\n",
       "      <td>1</td>\n",
       "      <td>41</td>\n",
       "      <td>0</td>\n",
       "      <td>0</td>\n",
       "      <td>0</td>\n",
       "      <td>0</td>\n",
       "      <td>...</td>\n",
       "      <td>35409</td>\n",
       "      <td>35036</td>\n",
       "      <td>35939</td>\n",
       "      <td>5000</td>\n",
       "      <td>2000</td>\n",
       "      <td>2000</td>\n",
       "      <td>3000</td>\n",
       "      <td>3000</td>\n",
       "      <td>1500</td>\n",
       "      <td>0</td>\n",
       "    </tr>\n",
       "    <tr>\n",
       "      <th>3</th>\n",
       "      <td>13973</td>\n",
       "      <td>50000</td>\n",
       "      <td>2</td>\n",
       "      <td>2</td>\n",
       "      <td>2</td>\n",
       "      <td>24</td>\n",
       "      <td>-1</td>\n",
       "      <td>-1</td>\n",
       "      <td>-2</td>\n",
       "      <td>-2</td>\n",
       "      <td>...</td>\n",
       "      <td>0</td>\n",
       "      <td>0</td>\n",
       "      <td>0</td>\n",
       "      <td>0</td>\n",
       "      <td>0</td>\n",
       "      <td>0</td>\n",
       "      <td>0</td>\n",
       "      <td>0</td>\n",
       "      <td>0</td>\n",
       "      <td>1</td>\n",
       "    </tr>\n",
       "    <tr>\n",
       "      <th>4</th>\n",
       "      <td>10567</td>\n",
       "      <td>80000</td>\n",
       "      <td>1</td>\n",
       "      <td>3</td>\n",
       "      <td>1</td>\n",
       "      <td>52</td>\n",
       "      <td>-1</td>\n",
       "      <td>0</td>\n",
       "      <td>0</td>\n",
       "      <td>0</td>\n",
       "      <td>...</td>\n",
       "      <td>20561</td>\n",
       "      <td>21261</td>\n",
       "      <td>21457</td>\n",
       "      <td>1500</td>\n",
       "      <td>1500</td>\n",
       "      <td>1500</td>\n",
       "      <td>1028</td>\n",
       "      <td>876</td>\n",
       "      <td>1449</td>\n",
       "      <td>0</td>\n",
       "    </tr>\n",
       "  </tbody>\n",
       "</table>\n",
       "<p>5 rows × 25 columns</p>\n",
       "</div>"
      ],
      "text/plain": [
       "      ID  LIMIT_BAL  SEX  EDUCATION  MARRIAGE  AGE  PAY_0  PAY_2  PAY_3  \\\n",
       "0  25150     360000    2          2         2   25     -1     -1     -1   \n",
       "1  13470     240000    2          1         2   46      2      2     -2   \n",
       "2   3092     320000    2          2         1   41      0      0      0   \n",
       "3  13973      50000    2          2         2   24     -1     -1     -2   \n",
       "4  10567      80000    1          3         1   52     -1      0      0   \n",
       "\n",
       "   PAY_4  ...  BILL_AMT4  BILL_AMT5  BILL_AMT6  PAY_AMT1  PAY_AMT2  PAY_AMT3  \\\n",
       "0     -1  ...       3435       8870       2020     12590      3479      3446   \n",
       "1     -1  ...       2240       1681       2267         0         0      2240   \n",
       "2      0  ...      35409      35036      35939      5000      2000      2000   \n",
       "3     -2  ...          0          0          0         0         0         0   \n",
       "4      0  ...      20561      21261      21457      1500      1500      1500   \n",
       "\n",
       "   PAY_AMT4  PAY_AMT5  PAY_AMT6  default_payment_next_month  \n",
       "0      8870      2020     27043                           0  \n",
       "1         0      2267      3074                           0  \n",
       "2      3000      3000      1500                           0  \n",
       "3         0         0         0                           1  \n",
       "4      1028       876      1449                           0  \n",
       "\n",
       "[5 rows x 25 columns]"
      ]
     },
     "execution_count": 6,
     "metadata": {},
     "output_type": "execute_result"
    }
   ],
   "source": [
    "import pandas as pd\n",
    "import numpy as np\n",
    "import matplotlib.pyplot as plt\n",
    "import seaborn as sns\n",
    "from matplotlib import rcParams\n",
    "import warnings\n",
    "\n",
    "warnings.filterwarnings(\"ignore\")\n",
    "df = pd.read_csv('default_payment_dataset.csv', sep=';')\n",
    "df.head()"
   ]
  },
  {
   "cell_type": "code",
   "execution_count": 2,
   "id": "9f105b3a-a330-49db-888a-9b76d0e2ed6d",
   "metadata": {},
   "outputs": [],
   "source": [
    "from sklearn.model_selection import train_test_split"
   ]
  },
  {
   "cell_type": "code",
   "execution_count": 3,
   "id": "bd8c2339-dd01-44c5-938e-d987a6419df4",
   "metadata": {},
   "outputs": [],
   "source": [
    "X = df.drop(columns=['ID','SEX','EDUCATION','MARRIAGE','AGE','BILL_AMT1','BILL_AMT2','BILL_AMT3','BILL_AMT4','BILL_AMT5','BILL_AMT6',\n",
    "                     'PAY_AMT1','PAY_AMT2','PAY_AMT3','PAY_AMT4','PAY_AMT5','PAY_AMT6','default_payment_next_month'])\n",
    "y = df['default_payment_next_month']"
   ]
  },
  {
   "cell_type": "code",
   "execution_count": 4,
   "id": "f0440494-a3e5-4e2e-82ae-34e707f4719d",
   "metadata": {},
   "outputs": [],
   "source": [
    "X_train, X_test, y_train, y_test = train_test_split(X,y,test_size=0.2, random_state=42)"
   ]
  },
  {
   "cell_type": "code",
   "execution_count": 1,
   "id": "aa623ff5-22eb-4c81-9b38-b6b1dc458c26",
   "metadata": {},
   "outputs": [],
   "source": [
    "# print(range(len(X_train.columns)))\n",
    "# X_train.iloc[:,0]"
   ]
  },
  {
   "cell_type": "markdown",
   "id": "d4503eb0-abae-473b-bbbc-cef7c6ddba41",
   "metadata": {},
   "source": [
    "# Data Cleansing"
   ]
  },
  {
   "cell_type": "markdown",
   "id": "6ee5162d-802c-48b5-8799-f230d819fd37",
   "metadata": {},
   "source": [
    "## Handle Missing Value"
   ]
  },
  {
   "cell_type": "markdown",
   "id": "f474f602-e0d0-4298-a2be-23d8f9941bfb",
   "metadata": {},
   "source": [
    "Tidak di temukan missing value pada dataset yang digunakan."
   ]
  },
  {
   "cell_type": "code",
   "execution_count": 21,
   "id": "f7e54e75-88ba-4055-a983-985a3ae05077",
   "metadata": {},
   "outputs": [
    {
     "data": {
      "text/plain": [
       "2    9789\n",
       "1    7415\n",
       "3    3467\n",
       "4     329\n",
       "Name: EDUCATION, dtype: int64"
      ]
     },
     "execution_count": 21,
     "metadata": {},
     "output_type": "execute_result"
    }
   ],
   "source": [
    "df['EDUCATION'].value_counts()"
   ]
  },
  {
   "cell_type": "markdown",
   "id": "d51f89ef-1ad1-4faa-b725-f8576d7e20bb",
   "metadata": {},
   "source": [
    "## Handle Duplicate Data"
   ]
  },
  {
   "cell_type": "code",
   "execution_count": 22,
   "id": "f0d83b73-d6d5-4983-ba50-3c138ff76361",
   "metadata": {},
   "outputs": [
    {
     "data": {
      "text/plain": [
       "0"
      ]
     },
     "execution_count": 22,
     "metadata": {},
     "output_type": "execute_result"
    }
   ],
   "source": [
    "df['ID'].duplicated().sum()"
   ]
  },
  {
   "cell_type": "markdown",
   "id": "39ff0928-9b4b-4c44-86ac-ad3de57411e5",
   "metadata": {},
   "source": [
    "Tidak ditemukan duplicated di kolom ID pada dataset yang digunakan"
   ]
  },
  {
   "cell_type": "markdown",
   "id": "6e720e0f-3073-44d9-becb-6f0f830b0b15",
   "metadata": {},
   "source": [
    "## Handle Outliers"
   ]
  },
  {
   "cell_type": "code",
   "execution_count": 23,
   "id": "4ffc8604-a6cc-43de-b3c0-6c3578605bb1",
   "metadata": {},
   "outputs": [
    {
     "name": "stdout",
     "output_type": "stream",
     "text": [
      "<class 'pandas.core.frame.DataFrame'>\n",
      "RangeIndex: 21000 entries, 0 to 20999\n",
      "Data columns (total 25 columns):\n",
      " #   Column                      Non-Null Count  Dtype\n",
      "---  ------                      --------------  -----\n",
      " 0   ID                          21000 non-null  int64\n",
      " 1   LIMIT_BAL                   21000 non-null  int64\n",
      " 2   SEX                         21000 non-null  int64\n",
      " 3   EDUCATION                   21000 non-null  int64\n",
      " 4   MARRIAGE                    21000 non-null  int64\n",
      " 5   AGE                         21000 non-null  int64\n",
      " 6   PAY_0                       21000 non-null  int64\n",
      " 7   PAY_2                       21000 non-null  int64\n",
      " 8   PAY_3                       21000 non-null  int64\n",
      " 9   PAY_4                       21000 non-null  int64\n",
      " 10  PAY_5                       21000 non-null  int64\n",
      " 11  PAY_6                       21000 non-null  int64\n",
      " 12  BILL_AMT1                   21000 non-null  int64\n",
      " 13  BILL_AMT2                   21000 non-null  int64\n",
      " 14  BILL_AMT3                   21000 non-null  int64\n",
      " 15  BILL_AMT4                   21000 non-null  int64\n",
      " 16  BILL_AMT5                   21000 non-null  int64\n",
      " 17  BILL_AMT6                   21000 non-null  int64\n",
      " 18  PAY_AMT1                    21000 non-null  int64\n",
      " 19  PAY_AMT2                    21000 non-null  int64\n",
      " 20  PAY_AMT3                    21000 non-null  int64\n",
      " 21  PAY_AMT4                    21000 non-null  int64\n",
      " 22  PAY_AMT5                    21000 non-null  int64\n",
      " 23  PAY_AMT6                    21000 non-null  int64\n",
      " 24  default_payment_next_month  21000 non-null  int64\n",
      "dtypes: int64(25)\n",
      "memory usage: 4.0 MB\n"
     ]
    }
   ],
   "source": [
    "df.info()"
   ]
  },
  {
   "cell_type": "code",
   "execution_count": 7,
   "id": "301fd76f-c7e3-4477-9909-b89bfa722003",
   "metadata": {},
   "outputs": [
    {
     "name": "stdout",
     "output_type": "stream",
     "text": [
      "<class 'pandas.core.frame.DataFrame'>\n",
      "Int64Index: 16377 entries, 15345 to 15795\n",
      "Data columns (total 8 columns):\n",
      " #   Column                      Non-Null Count  Dtype\n",
      "---  ------                      --------------  -----\n",
      " 0   LIMIT_BAL                   16377 non-null  int64\n",
      " 1   PAY_0                       16377 non-null  int64\n",
      " 2   PAY_2                       16377 non-null  int64\n",
      " 3   PAY_3                       16377 non-null  int64\n",
      " 4   PAY_4                       16377 non-null  int64\n",
      " 5   PAY_5                       16377 non-null  int64\n",
      " 6   PAY_6                       16377 non-null  int64\n",
      " 7   default_payment_next_month  16377 non-null  int64\n",
      "dtypes: int64(8)\n",
      "memory usage: 1.1 MB\n"
     ]
    }
   ],
   "source": [
    "from scipy import stats\n",
    "\n",
    "X_y_train = X_train.join(y_train)\n",
    "\n",
    "for i in range(0, len(X_y_train.columns)):\n",
    "    z_scores = np.abs(stats.zscore(X_y_train.iloc[:,i]))\n",
    "    filtered_entries = (z_scores < 3)\n",
    "    X_y_train= X_y_train[filtered_entries]\n",
    "\n",
    "X_y_train.info()"
   ]
  },
  {
   "cell_type": "markdown",
   "id": "d3135154-42ca-428d-93e2-6704c3b2367c",
   "metadata": {},
   "source": [
    "Hasil sebaran data numerik menggunakan boxplot setelah dilakukan filterisasi outliers.<br>\n",
    "Setelah semua outliers di filter dengan menggunakan z-score, tersisa **16.830** data dari **21.000**"
   ]
  },
  {
   "cell_type": "markdown",
   "id": "256dc098-ad0c-4f39-af09-a5f2e8c622fa",
   "metadata": {},
   "source": [
    "## Data Transformation"
   ]
  },
  {
   "cell_type": "markdown",
   "id": "8ff95872-6e9d-4ad9-9d3c-b458899eaa04",
   "metadata": {},
   "source": [
    "Tidak perlu dilakukan data transformation karena:<br>\n",
    "1. Skala pada fitur-fitur yang akan digunakan sudah seragam (-2 s/d 8) (Normalization dan Standardization)\n",
    "2. Rentang nilai pada fitur yang akan digunakan juga tidak besar (Log Transformation)\n",
    "3. Pada fitur yang akan digunakan, terdapat nilai negative dan nol, sehingga kurang cocok jika dilakukan proses Log Transformation"
   ]
  },
  {
   "cell_type": "markdown",
   "id": "f7f1d43e-dff2-4265-a8c3-d5d4da57a7d8",
   "metadata": {
    "tags": []
   },
   "source": [
    "## Data Encoding"
   ]
  },
  {
   "cell_type": "markdown",
   "id": "bb823996-2504-4582-a706-4f3d906022c5",
   "metadata": {},
   "source": [
    "Semua data pada dataset sudah di encode ke dalam bentuk numeric"
   ]
  },
  {
   "cell_type": "markdown",
   "id": "04c2d258-9bf9-4309-8564-b729737cfe6d",
   "metadata": {},
   "source": [
    "## Handle Class Imbalance"
   ]
  },
  {
   "cell_type": "code",
   "execution_count": 8,
   "id": "2c9f95b2-94fc-4a6a-ba3c-9ab6ffef45b3",
   "metadata": {},
   "outputs": [],
   "source": [
    "from imblearn.over_sampling import SMOTE\n",
    "\n",
    "X_train = X_y_train.drop(columns=['default_payment_next_month'])\n",
    "y_train = X_y_train['default_payment_next_month']\n",
    "\n",
    "sm = SMOTE(random_state=42)\n",
    "X_sm, y_sm = sm.fit_resample(X_train, y_train)"
   ]
  },
  {
   "cell_type": "markdown",
   "id": "a6c67485-8f05-4eeb-9927-58519c947904",
   "metadata": {},
   "source": [
    "Terjadi *class imbalance* pada fitur target, sehingga dilakukan **oversampling** terhadap fitur tersebut dengan menggunakan metode **SMOTE**"
   ]
  },
  {
   "cell_type": "markdown",
   "id": "7292211a-aa37-404d-8392-66ef2f6e463a",
   "metadata": {},
   "source": [
    "# Feature Engineering"
   ]
  },
  {
   "cell_type": "markdown",
   "id": "b826396b-c82c-441f-84b8-e46810c70f7f",
   "metadata": {},
   "source": [
    "## Feature Selection"
   ]
  },
  {
   "cell_type": "code",
   "execution_count": 9,
   "id": "035b5e97-0433-4f36-8945-1a523e41496a",
   "metadata": {},
   "outputs": [
    {
     "data": {
      "text/plain": [
       "Index(['PAY_0', 'PAY_2', 'PAY_3', 'PAY_4'], dtype='object')"
      ]
     },
     "execution_count": 9,
     "metadata": {},
     "output_type": "execute_result"
    }
   ],
   "source": [
    "# Metode SelectKBest untuk menentukan fitur-fitur penting\n",
    "from sklearn.feature_selection import SelectKBest\n",
    "from sklearn.feature_selection import f_classif\n",
    "\n",
    "# Buat SelectKBest object\n",
    "sel = SelectKBest(f_classif, k=4)\n",
    "\n",
    "# Fit dan transform data\n",
    "X_new = sel.fit_transform(X_sm, y_sm)\n",
    "\n",
    "# Mendapatkan nama kolom fitur terbaik\n",
    "selected_features = X_sm.columns[sel.get_support()]\n",
    "X_sm[selected_features].columns"
   ]
  },
  {
   "cell_type": "markdown",
   "id": "71f47a6a-b18c-4dfe-8999-576a410978f5",
   "metadata": {},
   "source": [
    "Proses **Feature Selection** dilakukan dengan menggunakan metode **SelectKBest**, dimana dipilih 4 (k=4) fitur terbaik berdasarkan dari perhitungan statistik metode SelectKBest. Adapun fitur-fitur yang didapatkan:<br>\n",
    "1. PAY_0\n",
    "2. PAY_2\n",
    "3. PAY_3\n",
    "4. PAY_4"
   ]
  },
  {
   "cell_type": "markdown",
   "id": "8d04a3e9-3d10-4a79-9a21-799e4e963abe",
   "metadata": {},
   "source": [
    "## Feature Extraction"
   ]
  },
  {
   "cell_type": "code",
   "execution_count": 10,
   "id": "7b645ac4-1a12-497b-ad5c-6e5255e3d7c0",
   "metadata": {},
   "outputs": [
    {
     "data": {
      "text/html": [
       "<div>\n",
       "<style scoped>\n",
       "    .dataframe tbody tr th:only-of-type {\n",
       "        vertical-align: middle;\n",
       "    }\n",
       "\n",
       "    .dataframe tbody tr th {\n",
       "        vertical-align: top;\n",
       "    }\n",
       "\n",
       "    .dataframe thead th {\n",
       "        text-align: right;\n",
       "    }\n",
       "</style>\n",
       "<table border=\"1\" class=\"dataframe\">\n",
       "  <thead>\n",
       "    <tr style=\"text-align: right;\">\n",
       "      <th></th>\n",
       "      <th>PAY_0</th>\n",
       "      <th>PAY_2</th>\n",
       "      <th>PAY_3</th>\n",
       "      <th>PAY_4</th>\n",
       "      <th>ld1</th>\n",
       "    </tr>\n",
       "  </thead>\n",
       "  <tbody>\n",
       "    <tr>\n",
       "      <th>0</th>\n",
       "      <td>1</td>\n",
       "      <td>-2</td>\n",
       "      <td>-2</td>\n",
       "      <td>-2</td>\n",
       "      <td>-0.114854</td>\n",
       "    </tr>\n",
       "    <tr>\n",
       "      <th>1</th>\n",
       "      <td>1</td>\n",
       "      <td>-2</td>\n",
       "      <td>-2</td>\n",
       "      <td>-2</td>\n",
       "      <td>-0.114854</td>\n",
       "    </tr>\n",
       "    <tr>\n",
       "      <th>2</th>\n",
       "      <td>0</td>\n",
       "      <td>0</td>\n",
       "      <td>0</td>\n",
       "      <td>0</td>\n",
       "      <td>0.115848</td>\n",
       "    </tr>\n",
       "    <tr>\n",
       "      <th>3</th>\n",
       "      <td>-1</td>\n",
       "      <td>-1</td>\n",
       "      <td>-1</td>\n",
       "      <td>-1</td>\n",
       "      <td>1.141293</td>\n",
       "    </tr>\n",
       "    <tr>\n",
       "      <th>4</th>\n",
       "      <td>0</td>\n",
       "      <td>0</td>\n",
       "      <td>0</td>\n",
       "      <td>0</td>\n",
       "      <td>0.115848</td>\n",
       "    </tr>\n",
       "  </tbody>\n",
       "</table>\n",
       "</div>"
      ],
      "text/plain": [
       "   PAY_0  PAY_2  PAY_3  PAY_4       ld1\n",
       "0      1     -2     -2     -2 -0.114854\n",
       "1      1     -2     -2     -2 -0.114854\n",
       "2      0      0      0      0  0.115848\n",
       "3     -1     -1     -1     -1  1.141293\n",
       "4      0      0      0      0  0.115848"
      ]
     },
     "execution_count": 10,
     "metadata": {},
     "output_type": "execute_result"
    }
   ],
   "source": [
    "from sklearn.discriminant_analysis import LinearDiscriminantAnalysis\n",
    "\n",
    "lda = LinearDiscriminantAnalysis(n_components=1)\n",
    "X_lda = lda.fit_transform(X_sm[selected_features], y_sm)\n",
    "\n",
    "X_new = pd.DataFrame(data=X_sm[selected_features])\n",
    "X_new['ld1'] = X_lda\n",
    "\n",
    "X_new.head()"
   ]
  },
  {
   "cell_type": "markdown",
   "id": "32ed8087-c649-4d70-8480-03f93f018a04",
   "metadata": {},
   "source": [
    "Pada feature extraction digunakan metode **Linear Discriminant Analysis (LDA)**, dimana metode ini akan menghasilkan sebuah prediksi dengan memperhitungkan input dari masing-masing class yang digunakan.<br>\n",
    "\n",
    "Karena algoritma yang akan digunakan adalah Decision Tree, LDA digunakan untuk memilih fitur-fitur yang paling baik membedakan antara kelas label pada dataset, sehingga dapat meningkatkan akurasi dan performa decision tree"
   ]
  },
  {
   "cell_type": "markdown",
   "id": "dc3680c2-7b94-4c76-9b2d-fe7df307de9f",
   "metadata": {},
   "source": [
    "## Ide Feature Tambahan"
   ]
  },
  {
   "cell_type": "markdown",
   "id": "7f7f1372-6580-4310-befb-44c727b9bc90",
   "metadata": {},
   "source": [
    "- Banyaknya **penghasilan nasabah**. Penghasilan nasabah kemungkinan memengaruhi limit balance yang diberikan sehingga bisa jadi memengaruhi pula status nasabah tersebut akan melakukan default atau tidak. LImit balance yang tinggi bisa jadi berasal dari penghasilan yang tinggi sehingga outlier yang terjadi di fitur limit balance belun tentu harus dihilangkan\n",
    "- **Jumlah tanggungan/anggota keluarga**. Semakin banyak orang yang menjadi tanggungan nasabah maka semakin banyak juga pengeluaran untuk kebutuhan hidup sehari-sehari termasuk penggunaan kartu kredit yang menjadi lebih besar. Banyaknya pengeluaran dan tingginya tagihan kartu kredit yang diterima dapat membuat nasabah tersebut melakukan default karen atidak sanggup membayar tagihan\n",
    "- **Status pengguna baru**. Apakah nasabah tersebut termasuk pengguna baru atau bukan. Jika seseorang baru memiliki kartu kredit dan belum memiliki riwayat pembayaran yang baik, maka bank mungkin akan merasa kurang yakin untuk memberikan kredit yang besar\n",
    "- **Jenis Pekerjaan**. Jenis pekerjaan nasabah juga dapat memengaruhi kemungkinan nasabah untuk mengalami default. Jika nasabah bekerja di bidang yang tidak stabil atau memiliki risiko kehilangan pekerjaan, maka kemungkinan nasabah sulit membayar tagihan kartu kredit dan akhirnya mengalami default\n",
    "- **Jumlah tagihan terhutang** yang bisa didapat dari selisih antara bill amount dan pay amount. Ketika pay amount tidak sesuai dengan bill amount, maka sisa bill ampunt yang masih belum terbayarkan akan terakumulasi di bulan selanjutnya. Sehingga ketika nasabah melakukan pembayran kurang dari tagihan rentan mengalami default karena jumlah tagihannya akan terus bertambah"
   ]
  },
  {
   "cell_type": "code",
   "execution_count": null,
   "id": "cb1ce96d-16a1-4527-a9da-b0b500a56586",
   "metadata": {},
   "outputs": [],
   "source": []
  }
 ],
 "metadata": {
  "kernelspec": {
   "display_name": "Python 3 (ipykernel)",
   "language": "python",
   "name": "python3"
  },
  "language_info": {
   "codemirror_mode": {
    "name": "ipython",
    "version": 3
   },
   "file_extension": ".py",
   "mimetype": "text/x-python",
   "name": "python",
   "nbconvert_exporter": "python",
   "pygments_lexer": "ipython3",
   "version": "3.9.13"
  }
 },
 "nbformat": 4,
 "nbformat_minor": 5
}
